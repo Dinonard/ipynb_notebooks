{
 "cells": [
  {
   "cell_type": "markdown",
   "id": "482d602d",
   "metadata": {},
   "source": [
    "## 0. Imports"
   ]
  },
  {
   "cell_type": "code",
   "execution_count": 53,
   "id": "0c6803f6",
   "metadata": {},
   "outputs": [],
   "source": [
    "import json\n",
    "from substrateinterface import ss58_decode, ss58_encode\n",
    "from collections import defaultdict"
   ]
  },
  {
   "cell_type": "markdown",
   "id": "ae382fe5",
   "metadata": {},
   "source": [
    "## 1. Parse Data Used For ASTR Reward Distribution & On-Chain Data\n"
   ]
  },
  {
   "cell_type": "code",
   "execution_count": 2,
   "id": "6ff5b908",
   "metadata": {},
   "outputs": [],
   "source": [
    "# There seem to be bugs in this data so we'll compare it to data read off-chain\n",
    "with open('sdn-balance-snapshot-753857.json') as wrong_snapshot:\n",
    "    sdn_balance_wrong_snapshot = { x['address'] : int(x['balance']) for x in json.load(wrong_snapshot) }"
   ]
  },
  {
   "cell_type": "code",
   "execution_count": 3,
   "id": "46a7c29f",
   "metadata": {},
   "outputs": [],
   "source": [
    "with open('sdn-ksm-crowdloan-reward.json') as crowdloan_reward:\n",
    "    sdn_balance_crwd_reward = { x['account_id'] : int(x['amount']) for x in json.load(crowdloan_reward) }"
   ]
  },
  {
   "cell_type": "code",
   "execution_count": 45,
   "id": "b5f8ac17",
   "metadata": {},
   "outputs": [],
   "source": [
    "balance_key_map = lambda x: x['account'][0]\n",
    "balance_value_map = lambda x: int(x['data']['data']['free'].replace(\",\", \"\"))\n",
    "\n",
    "with open('sdn_balance_from_chain.json') as on_chain_balance:\n",
    "    on_chain_balance_snapshot = { balance_key_map(x) : balance_value_map(x) for x in json.load(on_chain_balance) }"
   ]
  },
  {
   "cell_type": "markdown",
   "id": "ad1b8d94",
   "metadata": {},
   "source": [
    "## 2. Determine Who Incorrectly (Didn't) Receive Bonus Reward"
   ]
  },
  {
   "cell_type": "code",
   "execution_count": 8,
   "id": "b791bdeb",
   "metadata": {},
   "outputs": [],
   "source": [
    "# How much decrease in reward we allow\n",
    "reward_buffer = 10 ** 17\n",
    "\n",
    "is_eligible = lambda init, final: final  >= (init - reward_buffer) "
   ]
  },
  {
   "cell_type": "code",
   "execution_count": 20,
   "id": "92d0646d",
   "metadata": {},
   "outputs": [],
   "source": [
    "got_reward = set()\n",
    "didnt_get_reward = set()\n",
    "\n",
    "# We start with Crowdloan rewards since that's the basis on which bonus is distributed\n",
    "for account, crowdloan_reward in sdn_balance_crwd_reward.items():\n",
    "        \n",
    "    got_bonus_paid = is_eligible(crowdloan_reward, sdn_balance_wrong_snapshot[account])\n",
    "    should_have_got_bonus = is_eligible(crowdloan_reward, on_chain_balance_snapshot[account])\n",
    "    \n",
    "    if got_bonus_paid is True and should_have_got_bonus is False:\n",
    "        got_reward.add(account)\n",
    "        \n",
    "    if got_bonus_paid is False and should_have_got_bonus is True:\n",
    "        didnt_get_reward.add(account)"
   ]
  },
  {
   "cell_type": "code",
   "execution_count": 21,
   "id": "462c321e",
   "metadata": {},
   "outputs": [
    {
     "data": {
      "text/plain": [
       "(1, 734)"
      ]
     },
     "execution_count": 21,
     "metadata": {},
     "output_type": "execute_result"
    }
   ],
   "source": [
    "len(got_reward), len(didnt_get_reward)"
   ]
  },
  {
   "cell_type": "code",
   "execution_count": 22,
   "id": "7835c854",
   "metadata": {},
   "outputs": [],
   "source": [
    "# Read lockdrop participant accounts and remove them from missing accounts\n",
    "with open('plasm_to_duration.json') as plm_to_duration_file:\n",
    "    plasm_addresses = set(json.load(plm_to_duration_file).keys())"
   ]
  },
  {
   "cell_type": "code",
   "execution_count": 23,
   "id": "50840b84",
   "metadata": {},
   "outputs": [],
   "source": [
    "filtered_got_reward = got_reward - plasm_addresses\n",
    "filtered_didnt_get_reward = didnt_get_reward - plasm_addresses"
   ]
  },
  {
   "cell_type": "code",
   "execution_count": 24,
   "id": "41bceb9d",
   "metadata": {},
   "outputs": [
    {
     "name": "stdout",
     "output_type": "stream",
     "text": [
      "After removing PLASM addresses (which received bonus since they were LD participants), we get 1 account(s) which received reward when they shouldn't have and 733 account(s) which didn't receive reward when they should have.\n"
     ]
    }
   ],
   "source": [
    "print(f\"After removing PLASM addresses (which received bonus since they were LD participants), we get {len(filtered_got_reward)} account(s) which received reward when they shouldn't have and {len(filtered_didnt_get_reward)} account(s) which didn't receive reward when they should have.\")"
   ]
  },
  {
   "cell_type": "markdown",
   "id": "cf0325bd",
   "metadata": {},
   "source": [
    "## 3. Consolidate DOT Contributions"
   ]
  },
  {
   "cell_type": "code",
   "execution_count": 29,
   "id": "5bfa679f",
   "metadata": {},
   "outputs": [],
   "source": [
    "with open('polkadot-crowdloan.json') as dot_crowdloan_file:\n",
    "    dot_crowdloan_raw = json.load(dot_crowdloan_file)\n",
    "    dot_crowdloan_raw.reverse()"
   ]
  },
  {
   "cell_type": "code",
   "execution_count": 52,
   "id": "44d3f1ac",
   "metadata": {},
   "outputs": [],
   "source": [
    "dot_key_mapper = lambda x: ss58_encode(ss58_decode(x['who']), 5)\n",
    "dot_value_mapper = lambda x: int(x['contributing'])"
   ]
  },
  {
   "cell_type": "code",
   "execution_count": 54,
   "id": "7cabc188",
   "metadata": {},
   "outputs": [],
   "source": [
    "dot_contribution_count = defaultdict(int)\n",
    "\n",
    "for dot_lock_event in dot_crowdloan_raw:\n",
    "    astr_account = dot_key_mapper(dot_lock_event)\n",
    "    dot_amount = dot_value_mapper(dot_lock_event)\n",
    "    \n",
    "    dot_contribution_count[astr_account] = dot_contribution_count[astr_account] + dot_amount"
   ]
  },
  {
   "cell_type": "code",
   "execution_count": 58,
   "id": "5aa3fa83",
   "metadata": {},
   "outputs": [],
   "source": [
    "dot_reward_multiplier = 101610752585225\n",
    "\n",
    "multiplier_decimals = 10 ** 12\n",
    "dot_decimals = 10 ** 10\n",
    "\n",
    "astr_map = lambda dot: dot * dot_reward_multiplier / multiplier_decimals / dot_decimals \n",
    "\n",
    "base_astar_reward = { k: astr_map(v) for k, v in dot_contribution_count.items() }"
   ]
  },
  {
   "cell_type": "code",
   "execution_count": 68,
   "id": "268a4dd6",
   "metadata": {},
   "outputs": [
    {
     "data": {
      "text/plain": [
       "(5.0, 508.053762926125)"
      ]
     },
     "execution_count": 68,
     "metadata": {},
     "output_type": "execute_result"
    }
   ],
   "source": [
    "# Sanity check\n",
    "(dot_contribution_count['WFmkoRtBmM6zrH6mECrVhCjLAT8THNLinfikpgXbBUsjxX1'] / 10 ** 10, \n",
    "base_astar_reward['WFmkoRtBmM6zrH6mECrVhCjLAT8THNLinfikpgXbBUsjxX1'])"
   ]
  },
  {
   "cell_type": "markdown",
   "id": "ddb42de9",
   "metadata": {},
   "source": [
    "## 4. Process Accounts With Missing Rewards"
   ]
  },
  {
   "cell_type": "code",
   "execution_count": 85,
   "id": "fc5f2405",
   "metadata": {},
   "outputs": [],
   "source": [
    "not_astar_contributor = set()\n",
    "\n",
    "missing_bonus = dict()\n",
    "\n",
    "for account in filtered_didnt_get_reward:\n",
    "    if account not in base_astar_reward.keys():\n",
    "        # Didn't contribute to Astar crowdloan\n",
    "        not_astar_contributor.add(account)\n",
    "        continue\n",
    "        \n",
    "    missing_bonus[account] = base_astar_reward[account] / 10"
   ]
  },
  {
   "cell_type": "code",
   "execution_count": 86,
   "id": "327c6759",
   "metadata": {},
   "outputs": [
    {
     "data": {
      "text/plain": [
       "527"
      ]
     },
     "execution_count": 86,
     "metadata": {},
     "output_type": "execute_result"
    }
   ],
   "source": [
    "len(not_astar_contributor)"
   ]
  },
  {
   "cell_type": "code",
   "execution_count": 87,
   "id": "586f1364",
   "metadata": {},
   "outputs": [
    {
     "data": {
      "text/plain": [
       "206"
      ]
     },
     "execution_count": 87,
     "metadata": {},
     "output_type": "execute_result"
    }
   ],
   "source": [
    "len(missing_bonus)"
   ]
  },
  {
   "cell_type": "code",
   "execution_count": 91,
   "id": "e86d2f7f",
   "metadata": {},
   "outputs": [],
   "source": [
    "with open('missing_10_percent_bonus.json', 'w') as f:\n",
    "    json.dump(missing_bonus, f)"
   ]
  }
 ],
 "metadata": {
  "kernelspec": {
   "display_name": "Python 3 (ipykernel)",
   "language": "python",
   "name": "python3"
  },
  "language_info": {
   "codemirror_mode": {
    "name": "ipython",
    "version": 3
   },
   "file_extension": ".py",
   "mimetype": "text/x-python",
   "name": "python",
   "nbconvert_exporter": "python",
   "pygments_lexer": "ipython3",
   "version": "3.9.7"
  }
 },
 "nbformat": 4,
 "nbformat_minor": 5
}
