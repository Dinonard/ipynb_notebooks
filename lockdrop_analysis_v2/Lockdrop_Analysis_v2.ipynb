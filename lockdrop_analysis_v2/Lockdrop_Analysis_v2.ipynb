{
 "cells": [
  {
   "cell_type": "markdown",
   "id": "12953214",
   "metadata": {},
   "source": [
    "# Lockdrop Analysis v2"
   ]
  },
  {
   "cell_type": "markdown",
   "id": "f3991109",
   "metadata": {},
   "source": [
    "## 0. Imports"
   ]
  },
  {
   "cell_type": "code",
   "execution_count": 3,
   "id": "30980439",
   "metadata": {},
   "outputs": [],
   "source": [
    "import matplotlib.pyplot as plt\n",
    "import csv\n",
    "import numpy as np\n",
    "import json\n",
    "from collections import defaultdict"
   ]
  },
  {
   "cell_type": "markdown",
   "id": "76632136",
   "metadata": {},
   "source": [
    "## 1. Read Data"
   ]
  },
  {
   "cell_type": "code",
   "execution_count": 4,
   "id": "7319d9c7",
   "metadata": {},
   "outputs": [],
   "source": [
    "TX_HASH = 'transactionHash'\n",
    "ETH_ADDRESS = 'ethAddress'\n",
    "LOCKED_ETH = 'lockedEth'\n",
    "LOCK_DURATION = 'lockDuration'\n",
    "PLASM_ADDRESS = 'plasmAddress'\n",
    "PLM_BALANCE = 'plmBalance'\n",
    "\n",
    "with open('lockdrop-participant-balances.json') as ld_participant_balances_file:\n",
    "    participant_balances = json.load(ld_participant_balances_file)"
   ]
  },
  {
   "cell_type": "code",
   "execution_count": 5,
   "id": "88eca7eb",
   "metadata": {},
   "outputs": [
    {
     "data": {
      "text/plain": [
       "{'transactionHash': '0xdfeae5962ad6933df1e195a7d1db220f08e56996d9445afb947dc6b32bbee62b',\n",
       " 'ethAddress': '0x0dEf9b4811E4c4E9Da5ACF82d421C97B5E9C152F',\n",
       " 'lockedEth': '1.23',\n",
       " 'lockDuration': 1000,\n",
       " 'plasmAddress': 'WrTbSfrx11QMGwfn8GbmErX5PbsSEpEm1akkeyzbUNCF3Cs',\n",
       " 'plmBalance': '295476019650980300000'}"
      ]
     },
     "execution_count": 5,
     "metadata": {},
     "output_type": "execute_result"
    }
   ],
   "source": [
    "participant_balances[0]"
   ]
  },
  {
   "cell_type": "code",
   "execution_count": 6,
   "id": "180a44b2",
   "metadata": {},
   "outputs": [],
   "source": [
    "# IGNORE PARTICIPAN BALANCES"
   ]
  },
  {
   "cell_type": "code",
   "execution_count": 7,
   "id": "f4de6cde",
   "metadata": {},
   "outputs": [],
   "source": [
    "ETH = 'eth'\n",
    "DURATION = 'duration'\n",
    "LOCK = 'lock'\n",
    "INTRODUCER = 'introducer'\n",
    "BLOCK_NO = 'blockNo'\n",
    "TIMESTAMP = 'timestamp'\n",
    "LOCK_OWNER = 'lockOwner'  # this appears to be eth address"
   ]
  },
  {
   "cell_type": "code",
   "execution_count": 8,
   "id": "e0403b0b",
   "metadata": {},
   "outputs": [],
   "source": [
    "with open('lockdrop-first-event.json') as ld_first_event_file:\n",
    "    first_event = json.load(ld_first_event_file)\n",
    "    \n",
    "with open('lockdrop-second-event.json') as ld_second_event_file:\n",
    "    second_event = json.load(ld_second_event_file)"
   ]
  },
  {
   "cell_type": "code",
   "execution_count": 9,
   "id": "0a501c38",
   "metadata": {},
   "outputs": [
    {
     "data": {
      "text/plain": [
       "{'eth': '1230000000000000000',\n",
       " 'duration': 1000,\n",
       " 'lock': '0x757b339A5e14323900159b4F06407fD9126e7b36',\n",
       " 'introducer': '0x0000000000000000000000000000000000000000',\n",
       " 'blockNo': 9672720,\n",
       " 'timestamp': 1584230749,\n",
       " 'lockOwner': '0x0dEf9b4811E4c4E9Da5ACF82d421C97B5E9C152F',\n",
       " 'transactionHash': '0xdfeae5962ad6933df1e195a7d1db220f08e56996d9445afb947dc6b32bbee62b'}"
      ]
     },
     "execution_count": 9,
     "metadata": {},
     "output_type": "execute_result"
    }
   ],
   "source": [
    "first_event[0]"
   ]
  },
  {
   "cell_type": "code",
   "execution_count": 10,
   "id": "d94c63fd",
   "metadata": {},
   "outputs": [
    {
     "data": {
      "text/plain": [
       "{'eth': '2000000000000000000',\n",
       " 'duration': 30,\n",
       " 'lock': '0x19B2E1f82503c7C20e58BFce3344206c61E23366',\n",
       " 'introducer': '0x0000000000000000000000000000000000000000',\n",
       " 'blockNo': 10765336,\n",
       " 'timestamp': 1598832035,\n",
       " 'lockOwner': '0xa04c091e9FD824F86Efd27F0d40Fea4240115c82',\n",
       " 'transactionHash': '0x2544b978b0004b21b16753a177f54dab6e7bbbb054909837390c009a3e132ef8'}"
      ]
     },
     "execution_count": 10,
     "metadata": {},
     "output_type": "execute_result"
    }
   ],
   "source": [
    "second_event[0]"
   ]
  },
  {
   "cell_type": "code",
   "execution_count": 11,
   "id": "ad5c3438",
   "metadata": {},
   "outputs": [
    {
     "data": {
      "text/plain": [
       "(368, 12021, 4759)"
      ]
     },
     "execution_count": 11,
     "metadata": {},
     "output_type": "execute_result"
    }
   ],
   "source": [
    "len(first_event), len(second_event), len(participant_balances)"
   ]
  },
  {
   "cell_type": "markdown",
   "id": "a2c75c10",
   "metadata": {},
   "source": [
    "## 2. Aggregate First & Second Lockdrop Events"
   ]
  },
  {
   "cell_type": "code",
   "execution_count": 12,
   "id": "5453583e",
   "metadata": {},
   "outputs": [
    {
     "data": {
      "text/plain": [
       "12389"
      ]
     },
     "execution_count": 12,
     "metadata": {},
     "output_type": "execute_result"
    }
   ],
   "source": [
    "len(first_event + second_event)"
   ]
  },
  {
   "cell_type": "code",
   "execution_count": 13,
   "id": "0df5326c",
   "metadata": {},
   "outputs": [],
   "source": [
    "new_aggregate = defaultdict(int)\n",
    "\n",
    "first_event_aggregate = defaultdict(int)\n",
    "second_event_aggregate = defaultdict(int)\n",
    "\n",
    "for x in first_event:\n",
    "    first_event_aggregate[x[LOCK_OWNER].lower()] = max(x[DURATION], first_event_aggregate[x[LOCK_OWNER].lower()])\n",
    "    \n",
    "for x in second_event:\n",
    "    second_event_aggregate[x[LOCK_OWNER].lower()] = max(x[DURATION], second_event_aggregate[x[LOCK_OWNER].lower()])\n",
    "    \n",
    "new_aggregate = first_event_aggregate | second_event_aggregate"
   ]
  },
  {
   "cell_type": "code",
   "execution_count": 14,
   "id": "3be7a402",
   "metadata": {},
   "outputs": [
    {
     "data": {
      "text/plain": [
       "(262, 6042)"
      ]
     },
     "execution_count": 14,
     "metadata": {},
     "output_type": "execute_result"
    }
   ],
   "source": [
    "len(first_event_aggregate), len(second_event_aggregate)"
   ]
  },
  {
   "cell_type": "code",
   "execution_count": 15,
   "id": "cbca367e",
   "metadata": {},
   "outputs": [
    {
     "data": {
      "text/plain": [
       "6234"
      ]
     },
     "execution_count": 15,
     "metadata": {},
     "output_type": "execute_result"
    }
   ],
   "source": [
    "len(new_aggregate)"
   ]
  },
  {
   "cell_type": "markdown",
   "id": "eae16b9e",
   "metadata": {},
   "source": [
    "## 3. ETH-Astar mapping"
   ]
  },
  {
   "cell_type": "code",
   "execution_count": 19,
   "id": "9d66c2a1",
   "metadata": {},
   "outputs": [],
   "source": [
    "with open('first-lockdrop.json') as first_ld_file:\n",
    "    first_ld_claim = json.load(first_ld_file)\n",
    "\n",
    "first_eth_to_plasm = {x['ethAddress'].lower(): x['plasmAddress'] for x in first_ld_claim}"
   ]
  },
  {
   "cell_type": "code",
   "execution_count": 20,
   "id": "ea2c0b27",
   "metadata": {},
   "outputs": [
    {
     "data": {
      "text/plain": [
       "(368, 262)"
      ]
     },
     "execution_count": 20,
     "metadata": {},
     "output_type": "execute_result"
    }
   ],
   "source": [
    "len(first_ld_claim), len(first_eth_to_plasm)"
   ]
  },
  {
   "cell_type": "code",
   "execution_count": 21,
   "id": "aa137e0f",
   "metadata": {},
   "outputs": [],
   "source": [
    "with open('second-lockdrop.json') as second_ld_file:\n",
    "    second_ld_claim = json.load(second_ld_file)\n",
    "    \n",
    "second_eth_to_plasm = {x['ethereumAddress'].lower(): x['plasmAddress'] for x in second_ld_claim}"
   ]
  },
  {
   "cell_type": "code",
   "execution_count": 22,
   "id": "51ef5af2",
   "metadata": {},
   "outputs": [
    {
     "data": {
      "text/plain": [
       "(8925, 5789)"
      ]
     },
     "execution_count": 22,
     "metadata": {},
     "output_type": "execute_result"
    }
   ],
   "source": [
    "len(second_ld_claim), len(second_eth_to_plasm)"
   ]
  },
  {
   "cell_type": "code",
   "execution_count": 23,
   "id": "2198f164",
   "metadata": {},
   "outputs": [],
   "source": [
    "eth_to_plasm = first_eth_to_plasm | second_eth_to_plasm"
   ]
  },
  {
   "cell_type": "code",
   "execution_count": 24,
   "id": "666e26d4",
   "metadata": {},
   "outputs": [
    {
     "data": {
      "text/plain": [
       "5985"
      ]
     },
     "execution_count": 24,
     "metadata": {},
     "output_type": "execute_result"
    }
   ],
   "source": [
    "len(eth_to_plasm)"
   ]
  },
  {
   "cell_type": "code",
   "execution_count": 25,
   "id": "d652a9d0",
   "metadata": {},
   "outputs": [
    {
     "data": {
      "text/plain": [
       "6234"
      ]
     },
     "execution_count": 25,
     "metadata": {},
     "output_type": "execute_result"
    }
   ],
   "source": [
    "len(new_aggregate)"
   ]
  },
  {
   "cell_type": "code",
   "execution_count": 26,
   "id": "ec918c14",
   "metadata": {},
   "outputs": [
    {
     "data": {
      "text/plain": [
       "249"
      ]
     },
     "execution_count": 26,
     "metadata": {},
     "output_type": "execute_result"
    }
   ],
   "source": [
    "len(new_aggregate.keys() - eth_to_plasm.keys())"
   ]
  },
  {
   "cell_type": "code",
   "execution_count": 27,
   "id": "38a6ac3b",
   "metadata": {},
   "outputs": [
    {
     "name": "stdout",
     "output_type": "stream",
     "text": [
      "No matching PLASM address for 0x9e2178376af13dbb3d939fa62a8d33bf74912e3d (100)\n",
      "No matching PLASM address for 0x11ba6c4732b1a7f30dea51c23b8ed4c1f88dcd57 (100)\n",
      "No matching PLASM address for 0xb9b09311ea697c9bd16b9c41f759b852cc14b169 (1000)\n",
      "No matching PLASM address for 0x0d4ddea3849c54e16c85cb4354943dc876e05552 (1000)\n",
      "No matching PLASM address for 0xfce11e5b8940889bed838788610aa05c87f2fbd8 (100)\n",
      "No matching PLASM address for 0xd46c10d4f93c68462a78e2d7c38cdb16d3d81495 (100)\n",
      "No matching PLASM address for 0x502096777a0f1357c5ac9b7cfc9c929ec77bff6d (100)\n",
      "No matching PLASM address for 0x7b08336f515608024409a7007e93ae96531dd1d7 (1000)\n",
      "No matching PLASM address for 0x055ad5e56c11c0ef55818155c69ed9ba2f4b3e90 (30)\n",
      "No matching PLASM address for 0xfeeff524f5564f3444b1ef142c6d3cdc95b3755e (300)\n",
      "No matching PLASM address for 0xf3540576baac4524de3bb4f7b3b008f849e188bd (1000)\n",
      "No matching PLASM address for 0x8fc1dcc17fb7d5308fc0b0f361f65bcf9d7f3087 (1000)\n",
      "No matching PLASM address for 0x0486a831d78fa11938ac6ede76f53910117152fa (100)\n",
      "No matching PLASM address for 0xa230733aa507ddcf00651b0a4f89e09cd2c22c87 (30)\n",
      "No matching PLASM address for 0x4620550c97fe6fd67bd6d91b3e64c57af2a74d54 (300)\n",
      "No matching PLASM address for 0x6ed0f5f195d7efd09663b2f65cc9d5deb519265f (30)\n",
      "No matching PLASM address for 0x0af66d3641640755878f0d72a610fc2eea856cd6 (1000)\n",
      "No matching PLASM address for 0x1d3c68cba44315834beddccdab3aef75b4454e29 (30)\n",
      "No matching PLASM address for 0xa37fbc68ab044f1d6ecb18ec58bf0855d8b0d750 (100)\n",
      "No matching PLASM address for 0xb2cbe33dc64380e7afda17f6bbcd594cfa540ff7 (30)\n",
      "No matching PLASM address for 0x82da472fd9f28df97d9e6211b78b2d92bd391286 (100)\n",
      "No matching PLASM address for 0x5ac7fafff35730c62554b2b57165932fb334ff65 (30)\n",
      "No matching PLASM address for 0x20f6db36863d7a51828518cbee07970831f41e3f (30)\n",
      "No matching PLASM address for 0x0e51631f1e21bd22c591de48b273df6139d89ea7 (100)\n",
      "No matching PLASM address for 0x5594762396336c48423eb3f6165c0fbc991e79a5 (1000)\n",
      "No matching PLASM address for 0xf9ca6ee66ddba0da7869a3ed766849bfb7115b31 (100)\n",
      "No matching PLASM address for 0xf0f32c3c8def7b43caa14fed5752abc5381c8374 (100)\n",
      "No matching PLASM address for 0x810c9532880d4e468e595c04b08e1957404ab268 (100)\n",
      "No matching PLASM address for 0x3d19fc015be5e6e41bc42ba0a3b31d995332574c (1000)\n",
      "No matching PLASM address for 0xaab7f8eccd900e340d9ef56e1ad7d005921a0eec (1000)\n",
      "No matching PLASM address for 0x73e9aeeef2d4455324661009ed2561489986be4e (30)\n",
      "No matching PLASM address for 0xd8f7a0cc1baf9c56f9b48d3de836a21dbc979f1f (100)\n",
      "No matching PLASM address for 0x6e0fcc1607ba17690f17c5b8025c996388f658d5 (1000)\n",
      "No matching PLASM address for 0xc370634a9f3e32b7275591f3e3f537645599f2bc (300)\n",
      "No matching PLASM address for 0xd9915b6c8a79bb7d38735d226dfed271212ab3e5 (300)\n",
      "No matching PLASM address for 0xf2ee023755f858c6c72ddb192953b6d1d098b388 (100)\n",
      "No matching PLASM address for 0xe879e8ed68621afd52aec85d3980e73e5a3cdfb3 (100)\n",
      "No matching PLASM address for 0x559486ff26f9abccb0c6db85a4b6d35991176701 (100)\n",
      "No matching PLASM address for 0x1146a21769f81c9f2de05eae4dd117241b17d3c5 (100)\n",
      "No matching PLASM address for 0x9a64a1302a5171ed4863c4c3962745e9deb0a900 (100)\n",
      "No matching PLASM address for 0x7562e37f4458f84fbffa3f1bffc4f0e8118f4cec (100)\n",
      "No matching PLASM address for 0x41b2ba34197cefe9508e7a7184543115e84c9f67 (30)\n",
      "No matching PLASM address for 0x2b54a0ff868017d38ab4f99c2b857b15709e584a (100)\n",
      "No matching PLASM address for 0x299a0faf372a6b685a4e8339722f4a5fdc518724 (30)\n",
      "No matching PLASM address for 0xdb746a9b66aaf76effc167279d802b8604538809 (100)\n",
      "No matching PLASM address for 0x39ef4b3135be827952faf3513f0d1eb25f1eafc8 (100)\n",
      "No matching PLASM address for 0x1a8c7909ef52f4b4d3d30385e3328597ab0594a9 (100)\n",
      "No matching PLASM address for 0xece1935d1caa5f819ab991a323b687a28e48fa4b (100)\n",
      "No matching PLASM address for 0x24993cb17ed0ad4a3699fffffc1719c9fcdf9e25 (300)\n",
      "No matching PLASM address for 0x27e14bfcaee57e93125d13b0b4dd003a1c952049 (1000)\n",
      "No matching PLASM address for 0x45d1698975cef485c234d33ee14fb2c9e98b30b1 (100)\n",
      "No matching PLASM address for 0xfb5740c341f174d8570962ac0a61ac7c30728912 (100)\n",
      "No matching PLASM address for 0xc2dc950c78951f3bda6abdbf5234bec1978e6ccb (100)\n",
      "No matching PLASM address for 0xeafe863757a2b2a2c5c3f71988b7d59329d09a78 (100)\n",
      "No matching PLASM address for 0xa538311df7dc52bbe861f6e3efdd749730503cae (100)\n",
      "No matching PLASM address for 0xdfd9df5865192f4dceeee205fbfcc4fbc83bf0c0 (100)\n",
      "No matching PLASM address for 0x181f390136ce03dc107012580ca14f0737bc7a53 (1000)\n",
      "No matching PLASM address for 0x37bf78fa8853cee7df39280e70e38f3e163e44c4 (300)\n",
      "No matching PLASM address for 0xfb5b840a85d41bf28081a31b186fce24eff5ab5f (30)\n",
      "No matching PLASM address for 0x5029ddc9cb481fd57c020175e1d2448666807192 (100)\n",
      "No matching PLASM address for 0x562c32c0a654a18a31cf9dea36936cd2e28565d9 (30)\n",
      "No matching PLASM address for 0xabaf75a934e8b4da85db7c79a9e8c5a0022a1660 (30)\n",
      "No matching PLASM address for 0x9d964da32913be69ec963e4a7ba8a08a6e1437e7 (1000)\n",
      "No matching PLASM address for 0x7abdf0834ddbf31de042f9fd41ac23f21cb5543b (300)\n",
      "No matching PLASM address for 0xd6e564b1040b4d5dbe293b1838ab390074f849b8 (1000)\n",
      "No matching PLASM address for 0x72dc7d69d045dd7860cf8f8ff8516ffa82488ab6 (1000)\n",
      "No matching PLASM address for 0xea1feb9a9a006a7fc253c6ca87349be0da072f25 (100)\n",
      "No matching PLASM address for 0xb514ec4b418ed64e2dc3c429f0f8ef463ed3fd32 (1000)\n",
      "No matching PLASM address for 0xce52c31001ae3e7a2c5b908c8cf4c799b7a965b0 (300)\n",
      "No matching PLASM address for 0x0b41309a96a3442c726e3d4db69d05b2dc544976 (1000)\n",
      "No matching PLASM address for 0x978d47cbe9d8b138c04bb9bd257160e72c248a91 (1000)\n",
      "No matching PLASM address for 0xbe353e78545c2c3f419fce91ee9c485c8cbca907 (30)\n",
      "No matching PLASM address for 0x35f0e15ef322251d4d6edf2171b1211c4951652c (300)\n",
      "No matching PLASM address for 0x3caa6da8007c50b482004a24eae963eb4072dabb (100)\n",
      "No matching PLASM address for 0x2e025c2c95fa8dccbef32061fb4f758a15bb9f00 (1000)\n",
      "No matching PLASM address for 0x6bb1bd77a7e2af2eda927bd3ff72055f2ed23668 (30)\n",
      "No matching PLASM address for 0x5896553cce608b83b6cc43238fe956906dda45de (100)\n",
      "No matching PLASM address for 0x6fee145963fccbc1adff7cd58dbd6bef7f0762d1 (1000)\n",
      "No matching PLASM address for 0x04167a30d71f3116594ebc5fdb0a1c357ff3e810 (1000)\n",
      "No matching PLASM address for 0x498d1a13459fb868555037550d362198a0ecb647 (100)\n",
      "No matching PLASM address for 0xb4effef5e93a6d99ebcf60a6d6b83e26fe2b803e (300)\n",
      "No matching PLASM address for 0x81b5ec3be3d9339299e56665d8206d4d28ece898 (30)\n",
      "No matching PLASM address for 0x287e2c76aab4720786076c3deedd7dd386092050 (100)\n",
      "No matching PLASM address for 0x43281f06c8533605f795600f18b7f03a8d4fc8a9 (100)\n",
      "No matching PLASM address for 0xe55fce2224ce5238d85bfc7e6bf92289085903b4 (300)\n",
      "No matching PLASM address for 0x9daa7a12d9214824aff6e452b9b48d687d166a50 (100)\n",
      "No matching PLASM address for 0x54b5a0b3c81429f332f65bd118b11c89748fe705 (300)\n",
      "No matching PLASM address for 0xc9e7e9e9e6eeed7e39a0d45c72b28df7bbaee60c (30)\n",
      "No matching PLASM address for 0x8e7bd3dc5a41971455a7e5af99c3ab77766b964e (30)\n",
      "No matching PLASM address for 0xb054675add7062e2a708ba7c211fb0ec1f56b8fa (300)\n",
      "No matching PLASM address for 0x6eb13bf70edaade22b0c5a7f0de7138ce96d53db (1000)\n",
      "No matching PLASM address for 0x6144923b656fbac72f486796a2a33750dc6c559f (100)\n",
      "No matching PLASM address for 0xb697237d19dc1b471df3a930e014bfb5016e9ac5 (300)\n",
      "No matching PLASM address for 0x3424f391fb83293ab1ef8b15c1fa1f115462b32c (100)\n",
      "No matching PLASM address for 0x4a15c1d012dca8807025f8ec54168f112f0c35da (100)\n",
      "No matching PLASM address for 0x1d6d89079ae4196e255992938da38fd197746135 (300)\n",
      "No matching PLASM address for 0xa56c3eaa613f7ca708fdb46daa7de76df7b3b682 (100)\n",
      "No matching PLASM address for 0xad6181bf8c7b6570603d22ddb9c64aeb6b5d85b0 (100)\n",
      "No matching PLASM address for 0xeb9458f5c5facbba1a3d21099f8bbec44d7e3d00 (30)\n",
      "No matching PLASM address for 0xaab7aad0ad1d5fe7d7455d4fae8f9112ad4ff06d (100)\n",
      "No matching PLASM address for 0x4df6bc4de8a376837504b2796c476663014a25bb (1000)\n",
      "No matching PLASM address for 0xae04435c958ae19ad45aecce9c3456e4b60a8834 (1000)\n",
      "No matching PLASM address for 0x17ec047622c000df03599026a3b39871ec9384db (30)\n",
      "No matching PLASM address for 0x3578de06944f2ea84df0648b094ca2ccf41d5c23 (100)\n",
      "No matching PLASM address for 0x45914dd3e40b4da6f512eb5d79f9c6ec709743f1 (300)\n",
      "No matching PLASM address for 0x8e589838c817d5cbf3cedd6ff35cc746d025b71e (100)\n",
      "No matching PLASM address for 0x93f32c090ccd5cb50338d6439b9e1f913e4c2276 (1000)\n",
      "No matching PLASM address for 0xc7ca46dcc1ddaad78081b12f64bd61d9f0f2f22d (1000)\n",
      "No matching PLASM address for 0x843eb36e2b8f3cc15013c7b7453ad79ca516c069 (30)\n",
      "No matching PLASM address for 0x9fcd1d546cab62a14bf4caea18e52bef909cfb60 (1000)\n",
      "No matching PLASM address for 0x543da850a9dfb64bad9af1c0297f2051b65f3ff0 (100)\n",
      "No matching PLASM address for 0x4315cd07b8cbc66f86d547e49f0de5e3bfc314d4 (300)\n",
      "No matching PLASM address for 0xf0e3b92e4fe670e7ef0d8890aab80a12c74d710c (100)\n",
      "No matching PLASM address for 0xe59960f1ef0caa548464cdc1fba68248f9a3532a (30)\n",
      "No matching PLASM address for 0x0de28b723fa36c01e2757f8b179ea3f5026218ce (100)\n",
      "No matching PLASM address for 0xd19dc6165ee34a8380ec7059a85df04505741bd1 (300)\n",
      "No matching PLASM address for 0xce30b859f3a4e369fc99b6a1df2c41dc6fda00d8 (1000)\n",
      "No matching PLASM address for 0x3b44a4f9939d1a91d62eaaa046554f6bf8ec3cca (100)\n",
      "No matching PLASM address for 0x9b51a47e8a77896e95c1a05dac7a357cd0abbd1c (300)\n",
      "No matching PLASM address for 0x996782b2ef3713e068bc8dda2cd370fbfaa3400f (100)\n",
      "No matching PLASM address for 0x63acb57b970af5bc4b5b23ecf5da4f60cd93ee00 (100)\n",
      "No matching PLASM address for 0x53603413d7098fce94dcb33a718d0a108781f166 (1000)\n",
      "No matching PLASM address for 0xf59c50745e14ade54a03fd893d3dca18eeb8b12c (1000)\n",
      "No matching PLASM address for 0x1c6c4b0bb7778024587f664469ec1b8adb34f835 (100)\n",
      "No matching PLASM address for 0x5c9cd3ca797fc1cc48766235986ab7074b202962 (100)\n",
      "No matching PLASM address for 0xdd70c090d20f0400d1a8f2885bc221c2762770ed (100)\n",
      "No matching PLASM address for 0x127624db705bcb66179fa4b27bacef42e8454d30 (100)\n",
      "No matching PLASM address for 0xf6082ac28ee43575d4e15ad73087f318c934dc8b (30)\n",
      "No matching PLASM address for 0x5e73bca10d54d52894693c09e276917f3aa95a3b (100)\n",
      "No matching PLASM address for 0x32b1d78a0a3c306a55f4b6e86d677bacec53c238 (100)\n",
      "No matching PLASM address for 0xdac6a599772bb9200a65c9d2e133cf793b7c108a (100)\n",
      "No matching PLASM address for 0x3d41d7a77e8af515513df4104833a148250ea6c9 (300)\n",
      "No matching PLASM address for 0x21340bc19e15f453620c1e73c893a0797f47c251 (100)\n",
      "No matching PLASM address for 0xb4b33e3fe14bda262f0448abb58de24d5b4a6b2d (100)\n",
      "No matching PLASM address for 0xaf8954437fb534f234619d8c0df9de36f5ae00c9 (30)\n",
      "No matching PLASM address for 0xdf85958298135bb2156512e220bf92cb5b8a0e5d (100)\n",
      "No matching PLASM address for 0x3161bad264cc186477f095ee6f99a09c568cd69c (30)\n",
      "No matching PLASM address for 0x8c0c0384e0b0836ecae63bdea011073eae148fc5 (100)\n",
      "No matching PLASM address for 0xe001a57292d62f989e3ca1190549bb39b5f2b579 (100)\n",
      "No matching PLASM address for 0x0187130b286562265a59bcff8d995a82796c7de0 (100)\n",
      "No matching PLASM address for 0x16e7161b1fc631da6609ad010012c901e7db8af4 (100)\n",
      "No matching PLASM address for 0x67d35f6f24a6859207c840ddb893d0ffb7f8bab9 (100)\n",
      "No matching PLASM address for 0xfa0dbf099166d190c82b2e58ca3e357cf697919d (100)\n",
      "No matching PLASM address for 0x1f4341e7b8ac0d3c4f2228f2a5503c2338a4d6c1 (30)\n",
      "No matching PLASM address for 0x749f8e38ba7aab51d25d7e699c754eb7fa0a44ed (100)\n",
      "No matching PLASM address for 0x7d1d8980e96bf49f1a672a56e5daa9cc182f0905 (1000)\n",
      "No matching PLASM address for 0x8f15b4373d4f1f4f0d9992e41df608fd5b9292db (100)\n",
      "No matching PLASM address for 0x1d575a124d29a65950e3a5187d01e1814728ee17 (1000)\n",
      "No matching PLASM address for 0xeec2c4335c5cb8c6e3061c36cc1948857818b3d0 (100)\n",
      "No matching PLASM address for 0xd7dcb7452941121c66975c238aa2d94475fa807f (1000)\n",
      "No matching PLASM address for 0x7463ae891f82e2ae5b0b99ec01d10e2d32860124 (30)\n",
      "No matching PLASM address for 0x93d7c5caa8bf9202dae5446557fc08cf841b2ed8 (100)\n",
      "No matching PLASM address for 0x2324337c1864ec3d0fca2d7d896355c1239a1f3f (1000)\n",
      "No matching PLASM address for 0xd68b283f7e6041ca844344f6880205490001849e (30)\n",
      "No matching PLASM address for 0xe7bef9b2335a393dd24ce3288eb2265453284147 (1000)\n",
      "No matching PLASM address for 0x365f64d2fb69c8485a7167ff45c0b742e4513849 (100)\n",
      "No matching PLASM address for 0x0c46c3a7e0dbbc72038e072458e19ae83c1b440b (100)\n",
      "No matching PLASM address for 0x00fdf8a9e0a553a20289164ed8ef9a0fb071d7af (100)\n",
      "No matching PLASM address for 0x65d2dd1487ee685a977654cd35e410690d4cae4b (1000)\n",
      "No matching PLASM address for 0xcbe67e8790d066ed23e2958d486598ce5765e113 (100)\n",
      "No matching PLASM address for 0x9a496da2405978fc0fa1cc26570abf5d2c94f725 (30)\n",
      "No matching PLASM address for 0x1b06187ccaf888f243cd0a121b717fad6618514b (100)\n",
      "No matching PLASM address for 0x7fd846576cc77bf973cd2a4233d1f49ca0ec6a39 (100)\n",
      "No matching PLASM address for 0xc77017b5a3a5475362eaba5a9bd52c980cb18e3a (1000)\n",
      "No matching PLASM address for 0x7e3d4964a9f4d729efcb238a7b10699c48eb897d (100)\n",
      "No matching PLASM address for 0x1c9140d85460b728a4d5d3cc589015e9ed0f647f (300)\n",
      "No matching PLASM address for 0x641b7af99d68e23ead53d32a1cefb5d11161addc (300)\n",
      "No matching PLASM address for 0xbaa5564aa4f03ac7b5b2c8487afecb8a27baa467 (1000)\n",
      "No matching PLASM address for 0xe8cd4cb68dd4c79d118368f36d8564f3134c180d (300)\n",
      "No matching PLASM address for 0x3640a1317a40aa2c1bd9c64513be0362d137d3f8 (30)\n",
      "No matching PLASM address for 0xafb9188cebbd5579334d1750fa837b2850f66e7b (100)\n",
      "No matching PLASM address for 0x7e71842d68425456017a3c5436842390c696d8e0 (100)\n",
      "No matching PLASM address for 0x007bbec99cd6239923f4667998b8a47204eb0cd2 (30)\n",
      "No matching PLASM address for 0x3a5c7ed68c1bd52ae87eb6ff6522eb773fa1dc33 (300)\n",
      "No matching PLASM address for 0x3bc8dd7cf4c5daf0dd6dc62750bcaa8bab70cbda (100)\n",
      "No matching PLASM address for 0x1f10fd227c9d32c76df3446b59efff907f0556dd (1000)\n",
      "No matching PLASM address for 0x704524df8560cef7fd69cd776f872197c0ec6ee8 (100)\n",
      "No matching PLASM address for 0xc8cb9cf7cbdbe4b09e97179d1ff9d1c5f03a70ed (100)\n",
      "No matching PLASM address for 0x3f81f841f7294cb5cf5fd660400ddad6cff83381 (1000)\n",
      "No matching PLASM address for 0xcc76ea0da262165be0516f14d8fd75224ba192e7 (100)\n",
      "No matching PLASM address for 0x0f5f9246ceaf7c073b2e7915e38a86f70ec6a28f (1000)\n",
      "No matching PLASM address for 0x2efd595b8a2206f5991ee954646cc141a484819d (1000)\n",
      "No matching PLASM address for 0xf0c1350c481e30854684865790dec2463e2a4408 (100)\n",
      "No matching PLASM address for 0x00dc2d89810777a81c3080072d54120a0161373a (100)\n",
      "No matching PLASM address for 0x17f63454e879e070ab2ccf6415cae78fd036452c (30)\n",
      "No matching PLASM address for 0xbdacebd1e33914ae4d50479c468209b84fbe1366 (1000)\n",
      "No matching PLASM address for 0xd750ef2e883a8764ffa567d5d20e5aa51a50fb3d (1000)\n",
      "No matching PLASM address for 0xa901368aec255b1e6df31edf8aa735ff16bb12a8 (30)\n",
      "No matching PLASM address for 0xf422dfaccf6eb15bb9f7798f9655f18799a35b1e (1000)\n",
      "No matching PLASM address for 0xe342c4baf5050c6bd9f6d4a7642cac7b219a9b84 (100)\n",
      "No matching PLASM address for 0x11601c8e3f9d1b6a6b1eed4c4154296231568910 (100)\n",
      "No matching PLASM address for 0x848c49fd3fe4dd05831703a5e5934446d9cad60f (1000)\n",
      "No matching PLASM address for 0xdb336fa7fc1524c601b7952eb9c1d873134dcace (100)\n",
      "No matching PLASM address for 0x41de80a4923f6863199b4e8a522bc7a3b617e38b (100)\n",
      "No matching PLASM address for 0x4cc4c344eba849dc09ac9af4bff1977e44fc1d7e (1000)\n",
      "No matching PLASM address for 0xc8dde67cf8ce6072f53489798011b7184ddbf596 (100)\n",
      "No matching PLASM address for 0x324917eaf1a2ef8f4204fff967a429f49300c28b (100)\n",
      "No matching PLASM address for 0xc36e5a80823f74c12ee4a2eb588d25dde220ee73 (300)\n",
      "No matching PLASM address for 0xaaa27c580980cb89c02c50b9f41774d10e82e57e (100)\n",
      "No matching PLASM address for 0x64d60bfd0010208dd94266f1f0601332e70fef3c (100)\n",
      "No matching PLASM address for 0xd88a961fc812d9ed8927864857e8c6d51719a187 (300)\n",
      "No matching PLASM address for 0x8eb39b7c68eaa07c6f55ff4e2ad897ab35cf446e (30)\n",
      "No matching PLASM address for 0x1e3f6116115c03e148fab4bdaa58f298d1cab1e5 (100)\n",
      "No matching PLASM address for 0x6da61f8bde559898cec801a510aaa82a0fdf9dfe (100)\n",
      "No matching PLASM address for 0xb70760bf57c3295999f978fe404f4ec906669330 (100)\n",
      "No matching PLASM address for 0x46aaf01fd72267fac1ea98076e96fe60b2004b92 (30)\n",
      "No matching PLASM address for 0x2cc3267a8ccbbecbe18799182566a6b1c3b1daee (1000)\n",
      "No matching PLASM address for 0x10c663c71dd117b84470aa2f9797d845bee01d9a (1000)\n",
      "No matching PLASM address for 0xbfe080527c234051b631e5c152eb2f3509d21d60 (100)\n",
      "No matching PLASM address for 0x45e25c3d5e5181c07118b3c33f1a01276e713193 (1000)\n",
      "No matching PLASM address for 0x21f2ae82a28cbb284f0cc6edd88e63a92f30f1ff (100)\n",
      "No matching PLASM address for 0x246536f3e456e42a81ad5a14e6acd7f357644245 (100)\n",
      "No matching PLASM address for 0x5145fdb71cc57af2f971fbfd5ba9ac2c3326f0dd (100)\n",
      "No matching PLASM address for 0x602cd80de210d4253f671276a85fabcfa3ee1c7f (1000)\n",
      "No matching PLASM address for 0xbf299c79a2752f9945198b6ab48237de20f9c063 (300)\n",
      "No matching PLASM address for 0x6aa67ebaec1b31b4437741e31d48710707de44f3 (1000)\n",
      "No matching PLASM address for 0xcefd9d8a800da756e660a9e6f0758a0b088d102c (100)\n",
      "No matching PLASM address for 0x64309e7668d3e60d179173466e19625f6eafe4cf (100)\n",
      "No matching PLASM address for 0x10f63cc00cb565a10664012dd3c74a027adb1799 (1000)\n",
      "No matching PLASM address for 0x9cfa3e293f512256fe4c0f51149c98951ad1d5c3 (1000)\n",
      "No matching PLASM address for 0xf9785036307bf7801f6c57bd0b908fc4f0b69188 (1000)\n",
      "No matching PLASM address for 0x62c43424f2a39bd3acceb579a89dd92b4959fbee (100)\n",
      "No matching PLASM address for 0xcf2db35e55eaf48e83987a89868846bf7d71ef62 (1000)\n",
      "No matching PLASM address for 0x35944173f5b669e9a1c640567612aa53b874d3ea (30)\n",
      "No matching PLASM address for 0x256e1dcca0feeaffd9d747643709d3240802dac6 (1000)\n",
      "No matching PLASM address for 0x6e84b52fcf7d97180c98411b1e68ab72c36af9ff (100)\n",
      "No matching PLASM address for 0xe18bfaa480ec4c1b9e85df48a717cc5da968d4a7 (1000)\n",
      "No matching PLASM address for 0x4b650f58806b8be22213afd085a6071dd3dad01e (100)\n",
      "No matching PLASM address for 0xe88927406973d050bca7c3444cda5c307270e71e (100)\n",
      "No matching PLASM address for 0x4e581b24c06de14df5885a42734023da841ee607 (100)\n",
      "No matching PLASM address for 0x832cdf3c7fb0c38f95c8119b2b887d2db65daa9e (1000)\n",
      "No matching PLASM address for 0xc813dd2362a34963937225e081507b00caa06fe4 (100)\n",
      "No matching PLASM address for 0x61e193e514de408f57a648a641d9fcd412cded82 (100)\n",
      "No matching PLASM address for 0x67c973e2075b98e2757d6626a643a405f1f9f377 (300)\n",
      "No matching PLASM address for 0x63155498a06d3f058ecd453c5a0d94fb3a11ea4c (1000)\n",
      "No matching PLASM address for 0xada3604f9210280992c638cc59646202947dadad (1000)\n",
      "No matching PLASM address for 0xfd4ebd2bfb84b546cbd8dedc65f58f165af2be28 (1000)\n",
      "No matching PLASM address for 0xd2906dca8312b8d14247e49ce3545ff4ecc2b996 (300)\n",
      "No matching PLASM address for 0xced3fe54eaefcde3da10abcab233fa3bdb109e82 (300)\n",
      "No matching PLASM address for 0xd3aecf9e0856822bd320873e905ae9f78a2977e7 (1000)\n",
      "No matching PLASM address for 0xf7a7ba0f4f8fd4f561057c213e87901eec5e9b77 (1000)\n",
      "No matching PLASM address for 0x28319cc19d9598207f49474d9731b77f19e5296d (1000)\n",
      "No matching PLASM address for 0x5cd9c352e43f6dcd689989bad98ff3a927a128b4 (1000)\n",
      "No matching PLASM address for 0xdcf9527f8f83d00b5556d70bbe67b35dd4d9b1bc (100)\n",
      "No matching PLASM address for 0xa42ae64735283fe18843a25ef3603e75bb4e39db (300)\n",
      "No matching PLASM address for 0xbe2ca6f56c541eea195f258d7db77d51dd6b106a (300)\n",
      "No matching PLASM address for 0x9c79aef1d586452220ff23fa6b7791fcae1e7edb (1000)\n",
      "No matching PLASM address for 0xfcfeb1c563ce8a545f25f14a44df37360744f045 (100)\n",
      "No matching PLASM address for 0x5235aeaad6b747d33b89a716577af211ba0583e2 (1000)\n"
     ]
    }
   ],
   "source": [
    "plasm_to_duration = dict()\n",
    "\n",
    "for (eth_addr, duration) in new_aggregate.items():\n",
    "    if eth_addr not in eth_to_plasm.keys():\n",
    "        print(f\"No matching PLASM address for {eth_addr} ({duration})\")\n",
    "    else:\n",
    "       plasm_to_duration[eth_to_plasm[eth_addr]] = duration "
   ]
  },
  {
   "cell_type": "code",
   "execution_count": 28,
   "id": "2f03167e",
   "metadata": {},
   "outputs": [
    {
     "data": {
      "text/plain": [
       "(5985, 6234, 5985)"
      ]
     },
     "execution_count": 28,
     "metadata": {},
     "output_type": "execute_result"
    }
   ],
   "source": [
    "len(plasm_to_duration), len(new_aggregate), len(eth_to_plasm)"
   ]
  },
  {
   "cell_type": "code",
   "execution_count": 30,
   "id": "9ac8999e",
   "metadata": {},
   "outputs": [],
   "source": [
    "with open('plasm_to_duration.json', 'w') as ptd:\n",
    "    json.dump(plasm_to_duration, ptd)"
   ]
  }
 ],
 "metadata": {
  "kernelspec": {
   "display_name": "Python 3 (ipykernel)",
   "language": "python",
   "name": "python3"
  },
  "language_info": {
   "codemirror_mode": {
    "name": "ipython",
    "version": 3
   },
   "file_extension": ".py",
   "mimetype": "text/x-python",
   "name": "python",
   "nbconvert_exporter": "python",
   "pygments_lexer": "ipython3",
   "version": "3.9.7"
  }
 },
 "nbformat": 4,
 "nbformat_minor": 5
}
